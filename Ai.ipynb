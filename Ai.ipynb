{
  "nbformat": 4,
  "nbformat_minor": 0,
  "metadata": {
    "colab": {
      "provenance": []
    },
    "kernelspec": {
      "name": "python3",
      "display_name": "Python 3"
    },
    "language_info": {
      "name": "python"
    }
  },
  "cells": [
    {
      "cell_type": "code",
      "execution_count": 7,
      "metadata": {
        "colab": {
          "base_uri": "https://localhost:8080/",
          "height": 750
        },
        "id": "oJZDz4Du31gp",
        "outputId": "5ed43f89-516e-4962-c4b7-4b1ec1a15cef"
      },
      "outputs": [
        {
          "output_type": "stream",
          "name": "stderr",
          "text": [
            "Error during conversion: ChunkedEncodingError(ProtocolError('Response ended prematurely'))\n",
            "/usr/local/lib/python3.11/dist-packages/transformers/models/marian/tokenization_marian.py:175: UserWarning: Recommended: pip install sacremoses.\n",
            "  warnings.warn(\"Recommended: pip install sacremoses.\")\n",
            "Device set to use cpu\n",
            "Device set to use cpu\n",
            "Device set to use cpu\n"
          ]
        },
        {
          "output_type": "stream",
          "name": "stdout",
          "text": [
            "It looks like you are running Gradio on a hosted a Jupyter notebook. For the Gradio app to work, sharing must be enabled. Automatically setting `share=True` (you can turn this off by setting `share=False` in `launch()` explicitly).\n",
            "\n",
            "Colab notebook detected. To show errors in colab notebook, set debug=True in launch()\n",
            "* Running on public URL: https://cf2879e20a38a2cdf4.gradio.live\n",
            "\n",
            "This share link expires in 1 week. For free permanent hosting and GPU upgrades, run `gradio deploy` from the terminal in the working directory to deploy to Hugging Face Spaces (https://huggingface.co/spaces)\n"
          ]
        },
        {
          "output_type": "display_data",
          "data": {
            "text/plain": [
              "<IPython.core.display.HTML object>"
            ],
            "text/html": [
              "<div><iframe src=\"https://cf2879e20a38a2cdf4.gradio.live\" width=\"100%\" height=\"500\" allow=\"autoplay; camera; microphone; clipboard-read; clipboard-write;\" frameborder=\"0\" allowfullscreen></iframe></div>"
            ]
          },
          "metadata": {}
        },
        {
          "output_type": "execute_result",
          "data": {
            "text/plain": []
          },
          "metadata": {},
          "execution_count": 7
        }
      ],
      "source": [
        "# Imports\n",
        "from transformers import pipeline\n",
        "import gradio as gr\n",
        "\n",
        "# Load the translation and summarization pipelines\n",
        "translators = {\n",
        "    \"ar_en\": pipeline(\"translation_ar_to_en\", model=\"Helsinki-NLP/opus-mt-ar-en\"),\n",
        "    \"en_ar\": pipeline(\"translation_en_to_ar\", model=\"Helsinki-NLP/opus-mt-en-ar\")\n",
        "}\n",
        "\n",
        "summarizer = pipeline(\"summarization\", model=\"facebook/bart-large-cnn\")\n",
        "\n",
        "# Function to process the input\n",
        "def summarize_arabic_article(article):\n",
        "    # Limit the input to the first 3000 characters\n",
        "    article = article[:3000]\n",
        "\n",
        "    # Translate from Arabic to English\n",
        "    translated_en = translators[\"ar_en\"](article)[0]['translation_text']\n",
        "\n",
        "    # Summarize the English text\n",
        "    summary_en = summarizer(translated_en, max_length=200, min_length=50, do_sample=False)[0]['summary_text']\n",
        "\n",
        "    # Translate the summary back to Arabic\n",
        "    summary_ar = translators[\"en_ar\"](summary_en)[0]['translation_text']\n",
        "\n",
        "    return summary_ar\n",
        "\n",
        "# Gradio interface\n",
        "interface = gr.Interface(\n",
        "    fn=summarize_arabic_article,\n",
        "    inputs=gr.Textbox(label=\"أدخل مقالا باللغة العربية\", lines=12),\n",
        "    outputs=gr.Textbox(label=\"الملخص باللغة العربية\"),\n",
        "    title=\"تلخيص نصوص عربية باستخدام الذكاء الاصطناعي\",\n",
        "    description=\"يتم تلخيص النص العربي عبر الترجمة إلى الإنجليزية، ثم التلخيص، ثم إعادة الترجمة للعربية.\"\n",
        ")\n",
        "\n",
        "interface.launch()\n"
      ]
    }
  ]
}